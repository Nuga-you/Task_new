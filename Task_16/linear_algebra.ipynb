{
 "cells": [
  {
   "cell_type": "markdown",
   "id": "c53d6e64",
   "metadata": {},
   "source": [
    "### 3.1"
   ]
  },
  {
   "cell_type": "code",
   "execution_count": 7,
   "id": "23dd6267",
   "metadata": {},
   "outputs": [
    {
     "data": {
      "text/html": [
       "<div>\n",
       "<style scoped>\n",
       "    .dataframe tbody tr th:only-of-type {\n",
       "        vertical-align: middle;\n",
       "    }\n",
       "\n",
       "    .dataframe tbody tr th {\n",
       "        vertical-align: top;\n",
       "    }\n",
       "\n",
       "    .dataframe thead th {\n",
       "        text-align: right;\n",
       "    }\n",
       "</style>\n",
       "<table border=\"1\" class=\"dataframe\">\n",
       "  <thead>\n",
       "    <tr style=\"text-align: right;\">\n",
       "      <th></th>\n",
       "      <th>Stuents</th>\n",
       "      <th>Math</th>\n",
       "      <th>English</th>\n",
       "      <th>Science</th>\n",
       "    </tr>\n",
       "  </thead>\n",
       "  <tbody>\n",
       "    <tr>\n",
       "      <th>0</th>\n",
       "      <td>student 1</td>\n",
       "      <td>80</td>\n",
       "      <td>70</td>\n",
       "      <td>90</td>\n",
       "    </tr>\n",
       "    <tr>\n",
       "      <th>1</th>\n",
       "      <td>student 2</td>\n",
       "      <td>60</td>\n",
       "      <td>85</td>\n",
       "      <td>75</td>\n",
       "    </tr>\n",
       "    <tr>\n",
       "      <th>2</th>\n",
       "      <td>student 3</td>\n",
       "      <td>95</td>\n",
       "      <td>88</td>\n",
       "      <td>92</td>\n",
       "    </tr>\n",
       "    <tr>\n",
       "      <th>3</th>\n",
       "      <td>student 4</td>\n",
       "      <td>70</td>\n",
       "      <td>60</td>\n",
       "      <td>65</td>\n",
       "    </tr>\n",
       "  </tbody>\n",
       "</table>\n",
       "</div>"
      ],
      "text/plain": [
       "     Stuents  Math  English  Science\n",
       "0  student 1    80       70       90\n",
       "1  student 2    60       85       75\n",
       "2  student 3    95       88       92\n",
       "3  student 4    70       60       65"
      ]
     },
     "execution_count": 7,
     "metadata": {},
     "output_type": "execute_result"
    }
   ],
   "source": [
    "import numpy as np\n",
    "import pandas as pd\n",
    "\n",
    "# Representing Data in rows and \n",
    "data = {\n",
    "    'Stuents': ['student 1', 'student 2', 'student 3', 'student 4'],\n",
    "    'Math':    [80, 60 ,95 , 70],\n",
    "    'English': [70, 85, 88, 60],\n",
    "    'Science': [90, 75, 92, 65]}\n",
    "\n",
    "DataR= pd.DataFrame(data)\n",
    "DataR.head()\n",
    "\n",
    "\n",
    "\n",
    "\n"
   ]
  },
  {
   "cell_type": "markdown",
   "id": "431d5f6d",
   "metadata": {},
   "source": [
    "### 3.2"
   ]
  },
  {
   "cell_type": "code",
   "execution_count": 14,
   "id": "e6c2a4c9",
   "metadata": {},
   "outputs": [
    {
     "name": "stdout",
     "output_type": "stream",
     "text": [
      "Total for student1: 240\n",
      "Total for student2: 220\n",
      "Total for student3: 275\n",
      "Total for student4: 195\n"
     ]
    }
   ],
   "source": [
    "# representing data in array\n",
    "\n",
    "student1= np.array([80,70, 90])\n",
    "student2= np.array([60,85, 75])\n",
    "student3= np.array([95,88, 92])\n",
    "student4= np.array([70,60, 65])\n",
    "\n",
    "student1\n",
    "student2\n",
    "student3\n",
    "student4\n",
    "# total\n",
    "print(\"Total for student1:\", np.sum(student1))\n",
    "print(\"Total for student2:\", np.sum(student2))\n",
    "print(\"Total for student3:\", np.sum(student3))\n",
    "print(\"Total for student4:\", np.sum(student4))\n",
    "\n",
    "\n"
   ]
  },
  {
   "cell_type": "markdown",
   "id": "e6ab1bb8",
   "metadata": {},
   "source": [
    "### 3.3"
   ]
  },
  {
   "cell_type": "code",
   "execution_count": 30,
   "id": "3f85802a",
   "metadata": {},
   "outputs": [
    {
     "name": "stdout",
     "output_type": "stream",
     "text": [
      "[[80 70 90]\n",
      " [60 85 75]\n",
      " [95 88 92]\n",
      " [70 60 65]]\n",
      "[[160  70  90]\n",
      " [120  85  75]\n",
      " [190  88  92]\n",
      " [140  60  65]]\n",
      "scaler Result: [160 120 190 140]\n",
      "scaler multiplication of math Total: 610\n"
     ]
    }
   ],
   "source": [
    "# Applying scaler multiplication, Making mathematics Twice important\n",
    "# putting all in a column\n",
    "\n",
    "students= np.array([[80,70, 90],\n",
    "                    [60, 85, 75],\n",
    "                    [95, 88, 92],\n",
    "                    [70, 60, 65]\n",
    "                    ])\n",
    "\n",
    "print(students)\n",
    "scaler_c= 2\n",
    "# Making math twice important is scaler multiplication of maath column\n",
    "# scaler_multi= np.dot(scaler_c, axis=1)\n",
    "\n",
    "students_twice_math = students.copy()\n",
    "students_twice_math[:, 0] = scaler_c * students_twice_math[:, 0]\n",
    "print(students_twice_math)\n",
    "Total= students_twice_math[:, 0].sum()\n",
    "scale_x=students_twice_math[:, 0]\n",
    "print(\"scaler Result:\",scale_x)\n",
    "print(\"scaler multiplication of math Total:\", Total)\n"
   ]
  },
  {
   "cell_type": "markdown",
   "id": "a8aa2e55",
   "metadata": {},
   "source": [
    "### 3.4"
   ]
  },
  {
   "cell_type": "code",
   "execution_count": null,
   "id": "a891d9bc",
   "metadata": {},
   "outputs": [
    {
     "name": "stdout",
     "output_type": "stream",
     "text": [
      "Average mathematics: 76.25\n",
      "Average English: 75.75\n",
      "Average sci: 80.5\n"
     ]
    }
   ],
   "source": [
    "students= np.array([[80,70, 90],\n",
    "                    [60, 85, 75],\n",
    "                    [95, 88, 92],\n",
    "                    [70, 60, 65]\n",
    "                    ])\n",
    "Average_math= students[:,0].sum()/ 4\n",
    "Average_eng= students[:, 1].sum()/ 4\n",
    "Average_sci= students[:, 2].sum()/ 4\n",
    "\n",
    "print(f\"Average mathematics: {Average_math}\")\n",
    "print(f\"Average English: {Average_eng}\")\n",
    "print(f\"Average sci: {Average_sci}\")"
   ]
  },
  {
   "cell_type": "markdown",
   "id": "5771dbc1",
   "metadata": {},
   "source": [
    "### 3.5"
   ]
  },
  {
   "cell_type": "code",
   "execution_count": 41,
   "id": "787402d7",
   "metadata": {},
   "outputs": [
    {
     "name": "stdout",
     "output_type": "stream",
     "text": [
      "[[79. ]\n",
      " [70.5]\n",
      " [92.3]\n",
      " [66. ]]\n"
     ]
    }
   ],
   "source": [
    "weight_vector= np.array([[0.5], [0.3], [0.2]])\n",
    "\n",
    "final_grade= np.dot(students, weight_vector)\n",
    "print(final_grade)"
   ]
  },
  {
   "cell_type": "markdown",
   "id": "09f46751",
   "metadata": {},
   "source": [
    "### 3.6"
   ]
  },
  {
   "cell_type": "code",
   "execution_count": 47,
   "id": "a89acab5",
   "metadata": {},
   "outputs": [
    {
     "name": "stdout",
     "output_type": "stream",
     "text": [
      "difference in score vector: 35\n"
     ]
    }
   ],
   "source": [
    "# comparing scores of student1 3\n",
    "\n",
    "Average_student1= students[2,:].sum()- students[0,:].sum()\n",
    "print(\"difference in score vector:\", Average_student1)"
   ]
  }
 ],
 "metadata": {
  "kernelspec": {
   "display_name": "module_2env",
   "language": "python",
   "name": "python3"
  },
  "language_info": {
   "codemirror_mode": {
    "name": "ipython",
    "version": 3
   },
   "file_extension": ".py",
   "mimetype": "text/x-python",
   "name": "python",
   "nbconvert_exporter": "python",
   "pygments_lexer": "ipython3",
   "version": "3.13.7"
  }
 },
 "nbformat": 4,
 "nbformat_minor": 5
}

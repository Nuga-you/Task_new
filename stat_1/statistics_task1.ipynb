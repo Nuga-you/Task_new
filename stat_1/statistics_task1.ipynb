{
 "cells": [
  {
   "cell_type": "markdown",
   "id": "3a06b84c",
   "metadata": {},
   "source": [
    "### class Test Scores\n",
    "``` \n",
    "The following are the Mathematics test scores (out of 20) for a class of 15 students:\n",
    " 5, 8, 10, 12, 12, 12, 13, 14, 14, 15, 16, 18, 18, 20, 20\n",
    "\n",
    "1) Find the mean, median, and mode of the scores.\n",
    "\n",
    "2)If the lowest score (5) was wrongly recorded and should have been 10, how would the mean change? Would the median or mode change? Explain.\n",
    "```\n",
    "\n",
    "solution1\n",
    "\n",
    "\n",
    "i) mean = 5 + 8 + 10 + 12+12+12+13+14+14+15+16+18+18+20+20/15\n",
    "mean=14\n",
    "\n",
    "ii) mode= 12\n",
    "iii) meadian = 14\n",
    "\n",
    "\n",
    "2)The mean would increase by 0.33\n",
    "  Both the mode and median would not be affected\n",
    "\n",
    "  \n",
    "\n",
    "\n"
   ]
  },
  {
   "cell_type": "markdown",
   "id": "5b69e985",
   "metadata": {},
   "source": [
    "### Question 2\n",
    "```\n",
    "Daily Commute Times\n",
    "A group of 9 students reported the time (in minutes) it takes them to get to school each day:\n",
    "15, 20, 20, 25, 25, 30, 60, 65, 120\n",
    "1) Find the mean, median, and mode of the data.\n",
    "2) Which measure (mean, median, or mode) do you think best represents the “typical” time it takes students to get to school? Why?\n",
    " (Hint: Think about the effect of the student who takes 120 minutes.)\n",
    "\n",
    "```\n",
    "solution 2\n",
    "\n",
    "i) mean = 15 + 20 + 20 + 25 + 25 + 30 + 60 +65 +120/9= 42.22\n",
    "ii) mode= 20 and 25\n",
    "iii) median =25\n",
    "\n",
    "2)\n",
    "The median (25 minutes) best represents the typical time.\n",
    "The mean is much higher because of the outlier (120 minutes), which skews the average. The median is not affected by extreme values and better reflects the central tendency for most students.\n",
    "\n",
    "\n"
   ]
  },
  {
   "cell_type": "markdown",
   "id": "1b7a68e1",
   "metadata": {},
   "source": [
    "### Question 3"
   ]
  },
  {
   "cell_type": "markdown",
   "id": "89341dad",
   "metadata": {},
   "source": [
    "```\n",
    "Shoe Sizes\n",
    "The shoe sizes of students in a class are:\n",
    "38, 39, 38, 40, 41, 42, 39, 39, 40, 38, 37, 39, 40, 41, 42\n",
    "1) Find the mode of the data.\n",
    "2)If a shoe company wants to donate free shoes, which size should they produce most of? Why?\n",
    "What if they only want to produce one size that would fit the \"average\" student? Should they use mean, median, or mode? Defend your answer\n",
    "\n",
    "```\n",
    "\n",
    "solution \n",
    "\n",
    "\n",
    "$$\n",
    "mean = \\frac{1}{n}\\sum^n_{i=1}{x_i}\n",
    "$$\n",
    "\n",
    "$$\n",
    "mean = \\frac{38+ 39+ 38+ 40+ 41+ 42+39+ 39+ 40+38+37+39+ 40+ 41+ 42}{15}\n",
    "$$\n",
    "\n",
    "mean= 39.53\n",
    "mode=39\n",
    "\n",
    "\n",
    "if they only want to produce one size that would fit the \"average\" student, should they use mean, median, or mode?\n",
    "\n",
    "They should use the mode or median, not the mean:\n",
    "\n",
    "The mode (39) is the most common size, so it fits the most students.\n",
    "The median (also 39) is the middle value when the sizes are ordered, so it represents a \"typical\" size.\n",
    "The mean (39.53) is not a whole number and does not correspond to an actual shoe size.\n",
    "\n",
    "\n"
   ]
  },
  {
   "cell_type": "markdown",
   "id": "960ed578",
   "metadata": {},
   "source": []
  },
  {
   "cell_type": "markdown",
   "id": "5a8cf0a1",
   "metadata": {},
   "source": []
  }
 ],
 "metadata": {
  "language_info": {
   "name": "python"
  }
 },
 "nbformat": 4,
 "nbformat_minor": 5
}

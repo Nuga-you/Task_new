{
 "cells": [
  {
   "cell_type": "markdown",
   "id": "66da6b95",
   "metadata": {},
   "source": [
    "''' calculate the variance of the following data set\n",
    " ([4, 8,6, 5, 3])\n",
    " ```\n",
    " "
   ]
  },
  {
   "cell_type": "markdown",
   "metadata": {},
   "source": [
    "```\n",
    "mean = 8+ 4+ 6+5+3\n",
    "            5\n",
    "\n",
    "    = 5.2\n",
    "\n",
    "```\n",
    "\n",
    "$$\n",
    "\\sigma^2=\\frac{\\sum_{i=1}^n{(x-U)^2}}{n}\n",
    "$$\n",
    "\n",
    "\n",
    "      =[(8-5.2) + (4-5.2) + (6-5.2) + (5-5.2) + (3-5.2)]\n",
    "                               5\n",
    "      =2.^2 + -1.2^2 + 0.8^2 + -0.2^2 + -2.2^2\n",
    "                         5\n",
    "      =7.84 + 1.44 + 0.64 + 0.04+ 4.84\n",
    "                      5\n",
    "      =14.8\n",
    "         5\n",
    "$$\n",
    "variance:[\\sigma^2=\\frac{14.8}{5}=2.96]\n",
    "$$"
   ]
  }
 ],
 "metadata": {
  "language_info": {
   "name": "python"
  }
 },
 "nbformat": 4,
 "nbformat_minor": 5
}
